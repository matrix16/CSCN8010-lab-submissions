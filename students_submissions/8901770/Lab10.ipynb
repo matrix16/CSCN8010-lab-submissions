{
 "cells": [
  {
   "cell_type": "markdown",
   "metadata": {},
   "source": [
    "### Lab 10 - Fine-Tune VGG16 for Bird Classification"
   ]
  },
  {
   "cell_type": "code",
   "execution_count": 1,
   "metadata": {},
   "outputs": [],
   "source": [
    "import os\n",
    "import shutil\n",
    "import numpy as np\n",
    "import matplotlib.pyplot as plt\n",
    "from tensorflow.keras.preprocessing.image import ImageDataGenerator\n",
    "from tensorflow.keras.applications import VGG16\n",
    "from tensorflow.keras import layers, models, optimizers\n",
    "from sklearn.metrics import classification_report, confusion_matrix\n",
    "from sklearn.metrics import precision_recall_curve, auc\n",
    "from collections import Counter"
   ]
  },
  {
   "cell_type": "markdown",
   "metadata": {},
   "source": [
    "- <strong>Data Directory Setup:</strong> Set the main data directory and form paths for training and testing data.\n",
    "\n",
    "- <strong>Count Images per Class:</strong> Define a function to count images in each class, then apply it to the training set.\n",
    "\n",
    "- <strong>Select Top 3 Classes:</strong> Use a Counter to find class occurrences, select the top 3 classes with the most images.\n"
   ]
  },
  {
   "cell_type": "code",
   "execution_count": 3,
   "metadata": {},
   "outputs": [
    {
     "data": {
      "text/plain": [
       "['RUFOUS TREPE', 'HOUSE FINCH', 'D-ARNAUDS BARBET']"
      ]
     },
     "execution_count": 3,
     "metadata": {},
     "output_type": "execute_result"
    }
   ],
   "source": [
    "# Set your data directory\n",
    "data_dir = str(os.getcwd())+\"/birds_data\"\n",
    "train_dir = os.path.join(data_dir, 'train')\n",
    "test_dir = os.path.join(data_dir, 'test')\n",
    "\n",
    "# Function to count the number of images in each class\n",
    "\n",
    "\n",
    "def count_images_per_class(directory):\n",
    "    classes = os.listdir(directory)\n",
    "    class_counts = {}\n",
    "    for class_name in classes:\n",
    "        class_path = os.path.join(directory, class_name)\n",
    "        if os.path.isdir(class_path):\n",
    "            images = os.listdir(class_path)\n",
    "            class_counts[class_name] = len(images)\n",
    "    return class_counts\n",
    "\n",
    "\n",
    "# Get the counts for each class in the training set\n",
    "train_class_counts = count_images_per_class(train_dir)\n",
    "\n",
    "# Select the top 3 classes with the highest number of images\n",
    "selected_classes = [class_name for class_name,\n",
    "                    count in Counter(train_class_counts).most_common(3)]\n",
    "\n",
    "selected_classes"
   ]
  },
  {
   "cell_type": "markdown",
   "metadata": {},
   "source": [
    "#### Directory Creation for Selected Classes\n",
    "- New directories (`selected_train_dir` and `selected_test_dir`) are created to store only the selected classes.\n",
    "\n",
    "#### Ensure Directory Existence\n",
    "- Directories are created if they don't exist using `os.makedirs` with `exist_ok=True`.\n",
    "\n",
    "#### Copy Images for Selected Classes\n",
    "- For each selected class, images from the original training and testing sets are copied to the new directories.\n",
    "- The process is repeated for both training and testing sets if needed.\n"
   ]
  },
  {
   "cell_type": "code",
   "execution_count": 4,
   "metadata": {},
   "outputs": [],
   "source": [
    "# Create a new directory to store only the selected classes\n",
    "selected_train_dir = os.path.join(data_dir, 'selected_train')\n",
    "selected_test_dir = os.path.join(data_dir, 'selected_test')\n",
    "\n",
    "# Create directories if they don't exist\n",
    "os.makedirs(selected_train_dir, exist_ok=True)\n",
    "os.makedirs(selected_test_dir, exist_ok=True)\n",
    "\n",
    "# Copy images for the selected classes to the new directories\n",
    "for class_name in selected_classes:\n",
    "    source_dir = os.path.join(train_dir, class_name)\n",
    "    destination_dir = os.path.join(selected_train_dir, class_name)\n",
    "    os.makedirs(destination_dir, exist_ok=True)\n",
    "    images = os.listdir(source_dir)\n",
    "    for image in images:\n",
    "        source_path = os.path.join(source_dir, image)\n",
    "        destination_path = os.path.join(destination_dir, image)\n",
    "        shutil.copy(source_path, destination_path)\n",
    "\n",
    "    # Repeat the process for the test set if needed\n",
    "    source_dir = os.path.join(test_dir, class_name)\n",
    "    destination_dir = os.path.join(selected_test_dir, class_name)\n",
    "    os.makedirs(destination_dir, exist_ok=True)\n",
    "    images = os.listdir(source_dir)\n",
    "    for image in images:\n",
    "        source_path = os.path.join(source_dir, image)\n",
    "        destination_path = os.path.join(destination_dir, image)\n",
    "        shutil.copy(source_path, destination_path)"
   ]
  },
  {
   "cell_type": "markdown",
   "metadata": {},
   "source": [
    "#### Use Selected Directories\n",
    "- Update `train_dir` and `test_dir` to use the directories containing only the selected classes.\n",
    "\n",
    "#### Data Augmentation\n",
    "- Apply data augmentation to the training data using `ImageDataGenerator` with various transformations like rotation, shift, shear, zoom, and horizontal flip.\n",
    "\n",
    "#### Flow From Directory\n",
    "- Generate augmented batches of training data using `flow_from_directory` with specified parameters such as target size, batch size, class mode, and selected class names.\n"
   ]
  },
  {
   "cell_type": "code",
   "execution_count": 5,
   "metadata": {},
   "outputs": [
    {
     "name": "stdout",
     "output_type": "stream",
     "text": [
      "Found 744 images belonging to 3 classes.\n"
     ]
    }
   ],
   "source": [
    "# Use the selected directories for training and testing\n",
    "train_dir = selected_train_dir\n",
    "test_dir = selected_test_dir\n",
    "\n",
    "# Data Augmentation\n",
    "train_datagen = ImageDataGenerator(\n",
    "    rescale=1./255,\n",
    "    rotation_range=20,\n",
    "    width_shift_range=0.2,\n",
    "    height_shift_range=0.2,\n",
    "    shear_range=0.2,\n",
    "    zoom_range=0.2,\n",
    "    horizontal_flip=True,\n",
    "    fill_mode='nearest'\n",
    ")\n",
    "\n",
    "train_generator = train_datagen.flow_from_directory(\n",
    "    train_dir,\n",
    "    target_size=(224, 224),\n",
    "    batch_size=32,\n",
    "    class_mode='categorical',\n",
    "    classes=selected_classes\n",
    ")"
   ]
  },
  {
   "cell_type": "markdown",
   "metadata": {},
   "source": [
    "#### Load Pre-trained VGG16 Model\n",
    "- Load the pre-trained VGG16 model with ImageNet weights, excluding the top classification layers.\n",
    "\n",
    "#### Build Custom Top Layers\n",
    "- Construct a new model by adding custom layers on top of the pre-trained VGG16 base model, including flattening, dense, dropout, and softmax layers.\n",
    "\n",
    "#### Compile the Model\n",
    "- Compile the model with an Adam optimizer, categorical crossentropy loss, and accuracy metric.\n"
   ]
  },
  {
   "cell_type": "code",
   "execution_count": 6,
   "metadata": {},
   "outputs": [
    {
     "name": "stderr",
     "output_type": "stream",
     "text": [
      "WARNING:absl:`lr` is deprecated in Keras optimizer, please use `learning_rate` or use the legacy optimizer, e.g.,tf.keras.optimizers.legacy.Adam.\n"
     ]
    }
   ],
   "source": [
    "# Load pre-trained VGG16 model\n",
    "base_model = VGG16(weights='imagenet', include_top=False,\n",
    "                   input_shape=(224, 224, 3))\n",
    "\n",
    "# Build custom top layers\n",
    "model = models.Sequential()\n",
    "model.add(base_model)\n",
    "model.add(layers.Flatten())\n",
    "model.add(layers.Dense(256, activation='relu'))\n",
    "model.add(layers.Dropout(0.5))\n",
    "model.add(layers.Dense(len(selected_classes), activation='softmax'))\n",
    "\n",
    "# Compile the model\n",
    "model.compile(\n",
    "    optimizer=optimizers.Adam(lr=1e-4),\n",
    "    loss='categorical_crossentropy',\n",
    "    metrics=['accuracy']\n",
    ")"
   ]
  },
  {
   "cell_type": "markdown",
   "metadata": {},
   "source": [
    "#### Fine-Tune the Model\n",
    "- Fine-tune the model using the training data generated by `train_generator` for 10 epochs.\n",
    "\n",
    "#### Evaluate on Test Set\n",
    "- Evaluate the fine-tuned model on the test set using `test_generator` with specified parameters such as target size, batch size, class mode, and selected class names.\n"
   ]
  },
  {
   "cell_type": "code",
   "execution_count": 7,
   "metadata": {},
   "outputs": [
    {
     "name": "stdout",
     "output_type": "stream",
     "text": [
      "Epoch 1/10\n",
      "24/24 [==============================] - 251s 10s/step - loss: 2.4223 - accuracy: 0.3145\n",
      "Epoch 2/10\n",
      "24/24 [==============================] - 253s 11s/step - loss: 1.1425 - accuracy: 0.3454\n",
      "Epoch 3/10\n",
      "24/24 [==============================] - 236s 10s/step - loss: 1.1681 - accuracy: 0.3696\n",
      "Epoch 4/10\n",
      "24/24 [==============================] - 222s 9s/step - loss: 1.0982 - accuracy: 0.3508\n",
      "Epoch 5/10\n",
      "24/24 [==============================] - 222s 9s/step - loss: 1.0976 - accuracy: 0.3535\n",
      "Epoch 6/10\n",
      "24/24 [==============================] - 232s 10s/step - loss: 1.0974 - accuracy: 0.3535\n",
      "Epoch 7/10\n",
      "24/24 [==============================] - 254s 11s/step - loss: 1.0976 - accuracy: 0.3535\n",
      "Epoch 8/10\n",
      "24/24 [==============================] - 261s 11s/step - loss: 1.0976 - accuracy: 0.3535\n",
      "Epoch 9/10\n",
      "24/24 [==============================] - 261s 11s/step - loss: 1.0978 - accuracy: 0.3535\n",
      "Epoch 10/10\n",
      "24/24 [==============================] - 263s 11s/step - loss: 1.0972 - accuracy: 0.3535\n",
      "Found 15 images belonging to 3 classes.\n"
     ]
    }
   ],
   "source": [
    "# Fine-tune the model\n",
    "history = model.fit(\n",
    "    train_generator,\n",
    "    epochs=10,\n",
    "    verbose=1\n",
    ")\n",
    "\n",
    "# Evaluate on test set\n",
    "test_datagen = ImageDataGenerator(rescale=1./255)\n",
    "\n",
    "test_generator = test_datagen.flow_from_directory(\n",
    "    test_dir,\n",
    "    target_size=(224, 224),\n",
    "    batch_size=32,\n",
    "    class_mode='categorical',\n",
    "    classes=selected_classes\n",
    ")"
   ]
  },
  {
   "cell_type": "markdown",
   "metadata": {},
   "source": [
    "#### Calculate Metrics\n",
    "- Calculate the test loss and accuracy of the fine-tuned model using `model.evaluate` on the `test_generator`.\n",
    "\n",
    "#### Confusion Matrix\n",
    "- Compute and display the confusion matrix using the true labels (`y_true`) and predicted labels (`y_pred`).\n",
    "\n",
    "#### Classification Report\n",
    "- Generate and print the classification report, including precision, recall, and F1-score, using `classification_report` with target names specified as class labels.\n"
   ]
  },
  {
   "cell_type": "code",
   "execution_count": 12,
   "metadata": {},
   "outputs": [
    {
     "name": "stdout",
     "output_type": "stream",
     "text": [
      "1/1 - 1s - loss: 1.0996 - accuracy: 0.3333 - 1s/epoch - 1s/step\n",
      "1/1 [==============================] - 1s 1s/step\n",
      "Confusion Matrix:\n",
      "[[5 0 0]\n",
      " [5 0 0]\n",
      " [5 0 0]]\n",
      "Classification Report:\n",
      "                  precision    recall  f1-score   support\n",
      "\n",
      "    RUFOUS TREPE       0.33      1.00      0.50         5\n",
      "     HOUSE FINCH       0.00      0.00      0.00         5\n",
      "D-ARNAUDS BARBET       0.00      0.00      0.00         5\n",
      "\n",
      "        accuracy                           0.33        15\n",
      "       macro avg       0.11      0.33      0.17        15\n",
      "    weighted avg       0.11      0.33      0.17        15\n",
      "\n"
     ]
    },
    {
     "name": "stderr",
     "output_type": "stream",
     "text": [
      "c:\\Users\\Sam17\\AppData\\Local\\Programs\\Python\\Python311\\Lib\\site-packages\\sklearn\\metrics\\_classification.py:1471: UndefinedMetricWarning: Precision and F-score are ill-defined and being set to 0.0 in labels with no predicted samples. Use `zero_division` parameter to control this behavior.\n",
      "  _warn_prf(average, modifier, msg_start, len(result))\n",
      "c:\\Users\\Sam17\\AppData\\Local\\Programs\\Python\\Python311\\Lib\\site-packages\\sklearn\\metrics\\_classification.py:1471: UndefinedMetricWarning: Precision and F-score are ill-defined and being set to 0.0 in labels with no predicted samples. Use `zero_division` parameter to control this behavior.\n",
      "  _warn_prf(average, modifier, msg_start, len(result))\n",
      "c:\\Users\\Sam17\\AppData\\Local\\Programs\\Python\\Python311\\Lib\\site-packages\\sklearn\\metrics\\_classification.py:1471: UndefinedMetricWarning: Precision and F-score are ill-defined and being set to 0.0 in labels with no predicted samples. Use `zero_division` parameter to control this behavior.\n",
      "  _warn_prf(average, modifier, msg_start, len(result))\n"
     ]
    }
   ],
   "source": [
    "# Calculate metrics\n",
    "test_loss, test_acc = model.evaluate(test_generator, verbose=2)\n",
    "predictions = model.predict(test_generator)\n",
    "y_true = test_generator.classes\n",
    "y_pred = np.argmax(predictions, axis=1)\n",
    "\n",
    "# Confusion Matrix\n",
    "conf_mat = confusion_matrix(y_true, y_pred)\n",
    "print(\"Confusion Matrix:\")\n",
    "print(conf_mat)\n",
    "\n",
    "# Classification Report\n",
    "class_labels = {i: class_name for i, class_name in enumerate(selected_classes)}\n",
    "print(\"Classification Report:\")\n",
    "print(classification_report(y_true, y_pred, target_names=class_labels.values()))\n"
   ]
  },
  {
   "cell_type": "markdown",
   "metadata": {},
   "source": [
    "#### Precision-Recall Curve for Each Class\n",
    "- Calculate precision, recall, and area under the curve (AUC) for each class using `precision_recall_curve` and `auc` functions.\n",
    "- Compute micro-average precision, recall, and AUC using label binarization.\n",
    "- Plot precision-recall curves for each class and the micro-average curve using Matplotlib.\n"
   ]
  },
  {
   "cell_type": "code",
   "execution_count": 14,
   "metadata": {},
   "outputs": [
    {
     "data": {
      "image/png": "[encoded data removed]",
      "text/plain": [
       "<Figure size 1000x700 with 1 Axes>"
      ]
     },
     "metadata": {},
     "output_type": "display_data"
    }
   ],
   "source": [
    "# Precision-Recall Curve for each class\n",
    "from sklearn.preprocessing import label_binarize\n",
    "precision = dict()\n",
    "recall = dict()\n",
    "pr_auc = dict()\n",
    "\n",
    "for i in range(len(selected_classes)):\n",
    "    precision[i], recall[i], _ = precision_recall_curve(\n",
    "        (y_true == i).astype(int),\n",
    "        predictions[:, i]\n",
    "    )\n",
    "    pr_auc[i] = auc(recall[i], precision[i])\n",
    "\n",
    "# Micro-average Precision-Recall Curve\n",
    "precision[\"micro\"], recall[\"micro\"], _ = precision_recall_curve(\n",
    "    label_binarize(y_true, classes=range(len(selected_classes))).ravel(),\n",
    "    predictions.ravel()\n",
    ")\n",
    "pr_auc[\"micro\"] = auc(recall[\"micro\"], precision[\"micro\"])\n",
    "\n",
    "# Plot Precision-Recall Curve for each class\n",
    "plt.figure(figsize=(10, 7))\n",
    "\n",
    "for i in range(len(selected_classes)):\n",
    "    plt.plot(\n",
    "        recall[i],\n",
    "        precision[i],\n",
    "        label=f'Class {selected_classes[i]} (AUC = {pr_auc[i]:.2f})'\n",
    "    )\n",
    "\n",
    "plt.plot(\n",
    "    recall[\"micro\"],\n",
    "    precision[\"micro\"],\n",
    "    label=f'Micro-average (AUC = {pr_auc[\"micro\"]:.2f})',\n",
    "    color='navy',\n",
    "    linestyle=':',\n",
    ")\n",
    "\n",
    "plt.xlabel('Recall')\n",
    "plt.ylabel('Precision')\n",
    "plt.title('Precision-Recall Curve for Each Class')\n",
    "plt.legend(loc='best')\n",
    "plt.show()"
   ]
  }
 ],
 "metadata": {
  "kernelspec": {
   "display_name": "Python 3",
   "language": "python",
   "name": "python3"
  },
  "language_info": {
   "codemirror_mode": {
    "name": "ipython",
    "version": 3
   },
   "file_extension": ".py",
   "mimetype": "text/x-python",
   "name": "python",
   "nbconvert_exporter": "python",
   "pygments_lexer": "ipython3",
   "version": "3.11.3"
  }
 },
 "nbformat": 4,
 "nbformat_minor": 2
}
