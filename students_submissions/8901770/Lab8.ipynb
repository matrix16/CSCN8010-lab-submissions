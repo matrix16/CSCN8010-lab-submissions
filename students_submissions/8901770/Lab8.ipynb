{
 "cells": [
  {
   "cell_type": "markdown",
   "metadata": {},
   "source": [
    "### Lab 8 - A Dot product and a Matrix Multiplication in PyTorch and Tensorflow"
   ]
  },
  {
   "cell_type": "markdown",
   "metadata": {},
   "source": [
    "* Calculate the dot product between two vectors:"
   ]
  },
  {
   "cell_type": "code",
   "execution_count": 1,
   "metadata": {},
   "outputs": [
    {
     "name": "stdout",
     "output_type": "stream",
     "text": [
      "Dot product in PyTorch: tensor(32)\n"
     ]
    }
   ],
   "source": [
    "import torch\n",
    "# Define two vectors\n",
    "vector1 = torch.tensor([1, 2, 3])\n",
    "vector2 = torch.tensor([4, 5, 6])\n",
    "\n",
    "# Calculate dot product\n",
    "dot_product = torch.dot(vector1, vector2)\n",
    "print(\"Dot product in PyTorch:\", dot_product)"
   ]
  },
  {
   "cell_type": "markdown",
   "metadata": {},
   "source": [
    "* Calculate the matrix multiplication of two 2x2 matrices:"
   ]
  },
  {
   "cell_type": "code",
   "execution_count": 2,
   "metadata": {},
   "outputs": [
    {
     "name": "stdout",
     "output_type": "stream",
     "text": [
      "Matrix multiplication in PyTorch: tensor([[19, 22],\n",
      "        [43, 50]])\n"
     ]
    }
   ],
   "source": [
    "# Define two 2x2 matrices\n",
    "matrix1 = torch.tensor([[1, 2], [3, 4]])\n",
    "matrix2 = torch.tensor([[5, 6], [7, 8]])\n",
    "\n",
    "# Matrix multiplication\n",
    "matrix_product = torch.mm(matrix1, matrix2)\n",
    "print(\"Matrix multiplication in PyTorch:\", matrix_product)"
   ]
  },
  {
   "cell_type": "markdown",
   "metadata": {},
   "source": [
    "#### TensorFlow Notebook:\n",
    "* Calculate the dot product between the same vectors as above (re-define them in TensorFlow):"
   ]
  },
  {
   "cell_type": "code",
   "execution_count": 3,
   "metadata": {},
   "outputs": [
    {
     "name": "stdout",
     "output_type": "stream",
     "text": [
      "Dot product in TensorFlow: 32.0\n"
     ]
    }
   ],
   "source": [
    "import tensorflow as tf\n",
    "\n",
    "# Define the vectors in TensorFlow\n",
    "vector1_tf = tf.constant([1, 2, 3], dtype=tf.float32)\n",
    "vector2_tf = tf.constant([4, 5, 6], dtype=tf.float32)\n",
    "\n",
    "# Calculate dot product in TensorFlow\n",
    "dot_product_tf = tf.tensordot(vector1_tf, vector2_tf, axes=1)\n",
    "print(\"Dot product in TensorFlow:\", dot_product_tf.numpy())"
   ]
  },
  {
   "cell_type": "markdown",
   "metadata": {},
   "source": [
    "* Calculate the matrix multiplication of the same matrices as above (re-define them in TensorFlow):"
   ]
  },
  {
   "cell_type": "code",
   "execution_count": 4,
   "metadata": {},
   "outputs": [
    {
     "name": "stdout",
     "output_type": "stream",
     "text": [
      "Matrix multiplication in TensorFlow: [[19. 22.]\n",
      " [43. 50.]]\n"
     ]
    }
   ],
   "source": [
    "# Define the matrices in TensorFlow\n",
    "matrix1_tf = tf.constant([[1, 2], [3, 4]], dtype=tf.float32)\n",
    "matrix2_tf = tf.constant([[5, 6], [7, 8]], dtype=tf.float32)\n",
    "\n",
    "# Matrix multiplication in TensorFlow\n",
    "matrix_product_tf = tf.matmul(matrix1_tf, matrix2_tf)\n",
    "print(\"Matrix multiplication in TensorFlow:\", matrix_product_tf.numpy())"
   ]
  }
 ],
 "metadata": {
  "kernelspec": {
   "display_name": "Python 3",
   "language": "python",
   "name": "python3"
  },
  "language_info": {
   "codemirror_mode": {
    "name": "ipython",
    "version": 3
   },
   "file_extension": ".py",
   "mimetype": "text/x-python",
   "name": "python",
   "nbconvert_exporter": "python",
   "pygments_lexer": "ipython3",
   "version": "3.11.3"
  }
 },
 "nbformat": 4,
 "nbformat_minor": 2
}
