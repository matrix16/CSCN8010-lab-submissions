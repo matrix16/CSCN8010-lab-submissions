{
 "cells": [
  {
   "cell_type": "markdown",
   "metadata": {},
   "source": [
    "### Practical Lab 4 - Multivariate Linear and Polynomial Regression, and Evaluation using R-Squared, MAPE and MAE"
   ]
  },
  {
   "cell_type": "markdown",
   "metadata": {},
   "source": [
    "* Loadind the dataset\n",
    "* Split the data into train, validation, and test sets\n",
    "* Standardize features"
   ]
  },
  {
   "cell_type": "code",
   "execution_count": 2,
   "metadata": {},
   "outputs": [],
   "source": [
    "from sklearn.datasets import load_diabetes\n",
    "from sklearn.model_selection import train_test_split\n",
    "from sklearn.preprocessing import StandardScaler\n",
    "\n",
    "# Load the dataset\n",
    "diabetes = load_diabetes(as_frame=True, scaled=True)\n",
    "\n",
    "# Split the data into train, validation, and test sets\n",
    "X_train, X_temp, y_train, y_temp = train_test_split(diabetes.data, diabetes.target, test_size=0.4, random_state=42)\n",
    "X_val, X_test, y_val, y_test = train_test_split(X_temp, y_temp, test_size=0.5, random_state=42)\n",
    "\n",
    "# Standardize features\n",
    "scaler = StandardScaler()\n",
    "X_train = scaler.fit_transform(X_train)\n",
    "X_val = scaler.transform(X_val)\n",
    "X_test = scaler.transform(X_test)"
   ]
  },
  {
   "cell_type": "markdown",
   "metadata": {},
   "source": [
    "### Multivariate Linear Regression:\n",
    "* Fit the Multivariate linear regression model\n",
    "* Make predictions on the validation set\n",
    "* Evaluating the model"
   ]
  },
  {
   "cell_type": "code",
   "execution_count": 3,
   "metadata": {},
   "outputs": [],
   "source": [
    "from sklearn.linear_model import LinearRegression\n",
    "from sklearn.metrics import r2_score, mean_absolute_error, mean_absolute_percentage_error\n",
    "\n",
    "# Fit the multivariate linear regression model\n",
    "linear_model = LinearRegression()\n",
    "linear_model.fit(X_train, y_train)\n",
    "\n",
    "# Make predictions on the validation set\n",
    "y_val_pred_linear = linear_model.predict(X_val)\n",
    "\n",
    "# Evaluate the model\n",
    "r2_linear = r2_score(y_val, y_val_pred_linear)\n",
    "mae_linear = mean_absolute_error(y_val, y_val_pred_linear)\n",
    "mape_linear = mean_absolute_percentage_error(y_val, y_val_pred_linear) * 100\n"
   ]
  },
  {
   "cell_type": "markdown",
   "metadata": {},
   "source": [
    "### Polynomial Regression on BMI (2nd Degree):\n",
    "* Create polynomial features\n",
    "* Fit the polynomial regression model\n",
    "* Make predictions on the validation set\n",
    "* Evaluating the model"
   ]
  },
  {
   "cell_type": "code",
   "execution_count": 4,
   "metadata": {},
   "outputs": [],
   "source": [
    "from sklearn.preprocessing import PolynomialFeatures\n",
    "\n",
    "# Extract the BMI feature\n",
    "X_train_bmi = X_train[:, 2:3]  # Index 2 corresponds to the BMI feature\n",
    "X_val_bmi = X_val[:, 2:3]\n",
    "\n",
    "# Create polynomial features (degree=2)\n",
    "poly = PolynomialFeatures(degree=2, include_bias=False)\n",
    "X_train_bmi_poly = poly.fit_transform(X_train_bmi)\n",
    "X_val_bmi_poly = poly.transform(X_val_bmi)\n",
    "\n",
    "# Fit the polynomial regression model\n",
    "poly_model_bmi = LinearRegression()\n",
    "poly_model_bmi.fit(X_train_bmi_poly, y_train)\n",
    "\n",
    "# Make predictions on the validation set\n",
    "y_val_pred_poly_bmi = poly_model_bmi.predict(X_val_bmi_poly)\n",
    "\n",
    "# Evaluate the model\n",
    "r2_poly_bmi = r2_score(y_val, y_val_pred_poly_bmi)\n",
    "mae_poly_bmi = mean_absolute_error(y_val, y_val_pred_poly_bmi)\n",
    "mape_poly_bmi = mean_absolute_percentage_error(y_val, y_val_pred_poly_bmi) * 100"
   ]
  },
  {
   "cell_type": "markdown",
   "metadata": {},
   "source": [
    "### Multivariate Polynomial Regression (2nd Degree) on All Variables:\n",
    "* Create polynomial features for all variables\n",
    "* Fit the multivariate polynomial regression model\n",
    "* Making the predictions on the validation set\n",
    "* Evaluating the model"
   ]
  },
  {
   "cell_type": "code",
   "execution_count": 5,
   "metadata": {},
   "outputs": [],
   "source": [
    "# Create polynomial features (degree=2) for all variables\n",
    "poly = PolynomialFeatures(degree=2, include_bias=False)\n",
    "X_train_poly = poly.fit_transform(X_train)\n",
    "X_val_poly = poly.transform(X_val)\n",
    "\n",
    "# Fit the multivariate polynomial regression model\n",
    "poly_model = LinearRegression()\n",
    "poly_model.fit(X_train_poly, y_train)\n",
    "\n",
    "# Make predictions on the validation set\n",
    "y_val_pred_poly = poly_model.predict(X_val_poly)\n",
    "\n",
    "# Evaluate the model\n",
    "r2_poly = r2_score(y_val, y_val_pred_poly)\n",
    "mae_poly = mean_absolute_error(y_val, y_val_pred_poly)\n",
    "mape_poly = mean_absolute_percentage_error(y_val, y_val_pred_poly) * 100\n"
   ]
  },
  {
   "cell_type": "markdown",
   "metadata": {},
   "source": [
    "### Comparing the Three Models:"
   ]
  },
  {
   "cell_type": "code",
   "execution_count": 6,
   "metadata": {},
   "outputs": [
    {
     "name": "stdout",
     "output_type": "stream",
     "text": [
      "Multivariate Linear Regression:\n",
      "R-squared: 0.581, MAE: 38.221, MAPE: 34.802%\n",
      "\n",
      "Polynomial Regression on BMI (2nd Degree):\n",
      "R-squared: 0.362, MAE: 48.909, MAPE: 44.269%\n",
      "\n",
      "Multivariate Polynomial Regression (2nd Degree) on All Variables:\n",
      "R-squared: 0.418, MAE: 47.277, MAPE: 44.361%\n"
     ]
    }
   ],
   "source": [
    "# Print model comparison\n",
    "print(\"Multivariate Linear Regression:\")\n",
    "print(f\"R-squared: {r2_linear:.3f}, MAE: {mae_linear:.3f}, MAPE: {mape_linear:.3f}%\")\n",
    "\n",
    "print(\"\\nPolynomial Regression on BMI (2nd Degree):\")\n",
    "print(f\"R-squared: {r2_poly_bmi:.3f}, MAE: {mae_poly_bmi:.3f}, MAPE: {mape_poly_bmi:.3f}%\")\n",
    "\n",
    "print(\"\\nMultivariate Polynomial Regression (2nd Degree) on All Variables:\")\n",
    "print(f\"R-squared: {r2_poly:.3f}, MAE: {mae_poly:.3f}, MAPE: {mape_poly:.3f}%\")\n"
   ]
  },
  {
   "cell_type": "markdown",
   "metadata": {},
   "source": [
    "### Number of Parameters for Each Model:\n",
    "* Multivariate Linear Regression: The number of parameters is equal to the number of features (variables) plus one for the intercept term.\n",
    "* Polynomial Regression on BMI (2nd Degree): The number of parameters is determined by the polynomial degree (2 in this case) plus one for the intercept.\n",
    "* Multivariate Polynomial Regression (2nd Degree) on All Variables: The number of parameters is determined by the polynomial degree (2 in this case) times the number of original features plus one for the intercept.\n",
    "\n",
    "### Choosing a Model for Deployment:\n",
    "I choose <b>Multivariate Linear Regression</b>, because,\n",
    "* R-squared (R²): A higher R-squared value indicates that the model explains more variance in the target variable. Based on this criterion, the Multivariate Linear Regression model has the best R-squared value (0.581), suggesting that it explains the most variance among the three models.\n",
    "\n",
    "* Mean Absolute Error (MAE): A lower MAE indicates lower prediction error on average. The Multivariate Linear Regression model has the lowest MAE (38.221), indicating the smallest average prediction error among the models.\n",
    "\n",
    "* Mean Absolute Percentage Error (MAPE): MAPE represents the average percentage error in predictions. The Multivariate Linear Regression model also has the lowest MAPE (34.802%), meaning that, on average, its predictions are closest to the actual values in percentage terms.\n",
    "\n",
    "the Multivariate Linear Regression model appears to perform the best among the three models. It has the highest R-squared value, the lowest MAE, and the lowest MAPE on the validation set, suggesting better overall predictive performance\n"
   ]
  }
 ],
 "metadata": {
  "kernelspec": {
   "display_name": "CSC8010_classic_ml",
   "language": "python",
   "name": "csc8010_classic_ml"
  },
  "language_info": {
   "codemirror_mode": {
    "name": "ipython",
    "version": 3
   },
   "file_extension": ".py",
   "mimetype": "text/x-python",
   "name": "python",
   "nbconvert_exporter": "python",
   "pygments_lexer": "ipython3",
   "version": "3.11.3"
  }
 },
 "nbformat": 4,
 "nbformat_minor": 2
}
