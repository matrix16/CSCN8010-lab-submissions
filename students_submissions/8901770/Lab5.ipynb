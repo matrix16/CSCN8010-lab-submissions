{
 "cells": [
  {
   "cell_type": "markdown",
   "metadata": {},
   "source": [
    "### Lab 5 - Cross-Validation for Model Selection\n",
    "Task 1:\n",
    "* Utilize the diabetes dataset from lab 4. \n",
    "* Perform cross-validation on nine polynomial models, ranging from degree 0 to 8."
   ]
  },
  {
   "cell_type": "code",
   "execution_count": 1,
   "metadata": {},
   "outputs": [],
   "source": [
    "from sklearn.datasets import load_diabetes\n",
    "from sklearn.model_selection import cross_val_predict\n",
    "from sklearn.linear_model import LinearRegression\n",
    "from sklearn.preprocessing import PolynomialFeatures\n",
    "from sklearn.metrics import r2_score, mean_absolute_error, mean_absolute_percentage_error\n",
    "import pandas as pd\n",
    "\n",
    "# Load the diabetes dataset\n",
    "diabetes = load_diabetes()\n",
    "X, y = diabetes.data, diabetes.target"
   ]
  },
  {
   "cell_type": "markdown",
   "metadata": {},
   "source": [
    "Task 2 :\n",
    "* Construct a table summarizing the cross-validation results. Each model should have a separate row in the table. \n",
    "* Include the R-Squared, Mean Absolute Error (MAE) and MAPE metrics for each model. \n",
    "* Calculate the mean value and standard deviation of these metrics from the cross-validation. Include both values."
   ]
  },
  {
   "cell_type": "code",
   "execution_count": 2,
   "metadata": {},
   "outputs": [
    {
     "name": "stdout",
     "output_type": "stream",
     "text": [
      "Summary of Cross-Validation Results:\n",
      "  Polynomial Degree           R-Squared                  MAE             MAPE\n",
      "0                 0           -0.008824             66.03925         0.623684\n",
      "1                 1            0.495322            44.274856         0.394893\n",
      "2                 2            0.410853            46.602887          0.40275\n",
      "3                 3          -170.75562           342.032729          2.32316\n",
      "4                 4           -71.85994           303.102402         2.453773\n",
      "5                 5          -68.544073           295.638158         2.405314\n",
      "6                 6          -68.610219           295.584336         2.405038\n",
      "7                 7          -68.611392           295.582874         2.405036\n",
      "8                 8           -68.60516           295.533335         2.404673\n",
      "9        Mean ± Std  -57.3432 ± 54.2533  220.4879 ± 127.1308  1.7576 ± 0.9656\n"
     ]
    }
   ],
   "source": [
    "# Initialize lists to store metrics\n",
    "results = []\n",
    "\n",
    "# Loop through polynomial degrees from 0 to 8\n",
    "for degree in range(9):\n",
    "    # Create polynomial features\n",
    "    poly = PolynomialFeatures(degree=degree)\n",
    "    X_poly = poly.fit_transform(X)\n",
    "\n",
    "    # Create a linear regression model\n",
    "    model = LinearRegression()\n",
    "\n",
    "    # Perform cross-validation predictions with 5 folds\n",
    "    y_pred = cross_val_predict(model, X_poly, y, cv=5)\n",
    "\n",
    "    # Calculate R-Squared\n",
    "    r2 = r2_score(y, y_pred)\n",
    "\n",
    "    # Calculate Mean Absolute Error (MAE)\n",
    "    mae = mean_absolute_error(y, y_pred)\n",
    "\n",
    "    # Calculate Mean Absolute Percentage Error (MAPE)\n",
    "    mape = mean_absolute_percentage_error(y, y_pred)\n",
    "\n",
    "    results.append([degree, r2, mae, mape])\n",
    "\n",
    "# Create a DataFrame to summarize the results\n",
    "results_table = pd.DataFrame(\n",
    "    results, columns=['Polynomial Degree', 'R-Squared', 'MAE', 'MAPE'])\n",
    "\n",
    "# Calculate the mean and standard deviation of the metrics\n",
    "mean_metrics = results_table.mean()\n",
    "std_metrics = results_table.std()\n",
    "\n",
    "# Add a row for mean and standard deviation to the table\n",
    "mean_std_row = pd.DataFrame({\n",
    "    'Polynomial Degree': 'Mean ± Std',\n",
    "    'R-Squared': f'{mean_metrics[\"R-Squared\"]:.4f} ± {std_metrics[\"R-Squared\"]:.4f}',\n",
    "    'MAE': f'{mean_metrics[\"MAE\"]:.4f} ± {std_metrics[\"MAE\"]:.4f}',\n",
    "    'MAPE': f'{mean_metrics[\"MAPE\"]:.4f} ± {std_metrics[\"MAPE\"]:.4f}'\n",
    "}, index=[len(results)])\n",
    "\n",
    "raw_results_table = pd.concat([results_table])\n",
    "results_table = pd.concat([results_table, mean_std_row])\n",
    "\n",
    "# Print the results table\n",
    "print(\"Summary of Cross-Validation Results:\")\n",
    "print(results_table)"
   ]
  },
  {
   "cell_type": "markdown",
   "metadata": {},
   "source": [
    "Task 3: \n",
    "* Identification of the Best Model: Identify the model that exhibits the highest performance based on the R-Squared, MAE and MAPE metrics. \n",
    "* Provide an explanation for choosing this specific model. "
   ]
  },
  {
   "cell_type": "code",
   "execution_count": 3,
   "metadata": {},
   "outputs": [
    {
     "name": "stdout",
     "output_type": "stream",
     "text": [
      "\n",
      "Best Model Based on R-Squared:\n",
      "Polynomial Degree     1.000000\n",
      "R-Squared             0.495322\n",
      "MAE                  44.274856\n",
      "MAPE                  0.394893\n",
      "Name: 1, dtype: float64\n",
      "\n",
      "Best Model Based on MAE:\n",
      "Polynomial Degree     1.000000\n",
      "R-Squared             0.495322\n",
      "MAE                  44.274856\n",
      "MAPE                  0.394893\n",
      "Name: 1, dtype: float64\n",
      "\n",
      "Best Model Based on MAPE:\n",
      "Polynomial Degree     1.000000\n",
      "R-Squared             0.495322\n",
      "MAE                  44.274856\n",
      "MAPE                  0.394893\n",
      "Name: 1, dtype: float64\n"
     ]
    }
   ],
   "source": [
    "best_model_r2 = raw_results_table.sort_values(by='R-Squared', ascending=False).iloc[0]\n",
    "best_model_mae = raw_results_table.sort_values(by='MAE', ascending=True).iloc[0]\n",
    "best_model_mape = raw_results_table.sort_values(by='MAPE', ascending=True).iloc[0]\n",
    "\n",
    "\n",
    "# Print the best models\n",
    "print(\"\\nBest Model Based on R-Squared:\")\n",
    "print(best_model_r2)\n",
    "print(\"\\nBest Model Based on MAE:\")\n",
    "print(best_model_mae)\n",
    "print(\"\\nBest Model Based on MAPE:\")\n",
    "print(best_model_mape)"
   ]
  },
  {
   "cell_type": "markdown",
   "metadata": {},
   "source": [
    "I am choosing the model with the lowest MAPE (Mean Absolute Percentage Error) \n",
    "\n",
    "* Percentage Accuracy: You want your predictions to be as close as possible to the actual values in percentage terms. MAPE measures how accurate your predictions are in relative percentages.\n",
    "\n",
    "* Easy Understanding: MAPE is easy to understand. It directly tells you how far off your predictions are in terms of percentage errors, making it simple to communicate with non-technical people.\n",
    "\n",
    "* Robustness: MAPE works well with data of different scales and helps balance the effect of unusual data points (outliers).\n",
    "\n",
    "* Compliance: In some industries or for regulatory purposes, there may be specific requirements for percentage accuracy. Choosing the lowest MAPE helps meet such requirements."
   ]
  },
  {
   "cell_type": "markdown",
   "metadata": {},
   "source": []
  },
  {
   "cell_type": "markdown",
   "metadata": {},
   "source": [
    "Task 4:\n",
    "* Additional analysis and interpretation of the models' performances. You may explore further insights beyond the required metrics. \n",
    "* The analysis should provide at least one relevant insight about the choice of the best model, or about characteristics of the chosen one (for example - an analysis of in which instances does it fail)"
   ]
  },
  {
   "cell_type": "code",
   "execution_count": 4,
   "metadata": {},
   "outputs": [
    {
     "name": "stdout",
     "output_type": "stream",
     "text": [
      "Chosen Model (Polynomial Degree 1):\n",
      "   Polynomial Degree  R-Squared        MAE      MAPE\n",
      "1                  1   0.495322  44.274856  0.394893\n",
      "Insight: The chosen model is a simple linear regression model.\n",
      "Interpretability: Linear models are more interpretable and suitable for relative accuracy.\n",
      "Model Simplicity: The linear model suggests that more complex polynomials may not significantly improve relative accuracy.\n"
     ]
    }
   ],
   "source": [
    "# Extract the best model based on the lowest MAPE\n",
    "best_model = raw_results_table[raw_results_table['MAPE']\n",
    "                               == raw_results_table['MAPE'].min()]\n",
    "\n",
    "# Additional analysis and insights\n",
    "if not best_model.empty:\n",
    "    best_degree = best_model['Polynomial Degree'].values[0]\n",
    "    print(f\"Chosen Model (Polynomial Degree {best_degree}):\")\n",
    "    print(best_model)\n",
    "\n",
    "    # Perform further analysis, if needed\n",
    "    if best_degree == 1:\n",
    "        print(\"Insight: The chosen model is a simple linear regression model.\")\n",
    "        print(\"Interpretability: Linear models are more interpretable and suitable for relative accuracy.\")\n",
    "        print(\"Model Simplicity: The linear model suggests that more complex polynomials may not significantly improve relative accuracy.\")\n",
    "    else:\n",
    "        print(\"Insight: The chosen model has a polynomial degree higher than 1.\")\n",
    "        print(\"Considerations: Polynomial models capture non-linear relationships but may have higher complexity.\")\n",
    "\n",
    "    # Additional analysis steps can be added as needed, such as handling outliers, exploring data characteristics, or assessing model robustness.\n",
    "\n",
    "else:\n",
    "    print(\"No model with the lowest MAPE found in the results.\")"
   ]
  }
 ],
 "metadata": {
  "kernelspec": {
   "display_name": "CSC8010_classic_ml",
   "language": "python",
   "name": "csc8010_classic_ml"
  },
  "language_info": {
   "codemirror_mode": {
    "name": "ipython",
    "version": 3
   },
   "file_extension": ".py",
   "mimetype": "text/x-python",
   "name": "python",
   "nbconvert_exporter": "python",
   "pygments_lexer": "ipython3",
   "version": "3.11.3"
  }
 },
 "nbformat": 4,
 "nbformat_minor": 2
}
